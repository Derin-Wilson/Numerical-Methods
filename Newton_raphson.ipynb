{
 "cells": [
  {
   "cell_type": "code",
   "execution_count": 70,
   "metadata": {},
   "outputs": [],
   "source": [
    "#Newton Raphson's method\n",
    "\n",
    "import numpy as np\n",
    "\n",
    "#define your function here\n",
    "def func(x):\n",
    "    return 5*x**3 - 5*x**2 + 6*x - 2\n",
    "    #return 2*np.sin(np.sqrt(x)) - x\n",
    "\n",
    "def func_der(x):\n",
    "    return 15*x**2 - 10*x+6\n",
    "    #return np.cos(np.sqrt(x))/np.sqrt(x)-1"
   ]
  },
  {
   "cell_type": "code",
   "execution_count": 71,
   "metadata": {},
   "outputs": [],
   "source": [
    "def newton_raphson(x):\n",
    "    # x(i+1) = x(i) - f(x) / f'(x) \n",
    "    # error = (x(i+1) - x(i))/x(i+1)*100\n",
    "    i = 0 #iteration\n",
    "    if abs(func_der(x)) > 1e-7:\n",
    "        while True:\n",
    "            h = func(x)/func_der(x)\n",
    "            x1 = x - h\n",
    "            err = (x1-x)/x1\n",
    "            x = x1\n",
    "            i+=1\n",
    "            print(\"Iteration no.\",i,\", x value:\",x1,\", error:\",err)\n",
    "            if abs(err)<=0.001 or i>=100:\n",
    "                break\n",
    "    #else:\n",
    "    #    x1 = 0\n",
    "    return x1"
   ]
  },
  {
   "cell_type": "code",
   "execution_count": 72,
   "metadata": {},
   "outputs": [
    {
     "name": "stdout",
     "output_type": "stream",
     "text": [
      "Iteration no. 1 , x value: 0.437037037037037 , error: -0.37288135593220345\n",
      "Iteration no. 2 , x value: 0.41821716729853214 , error: -0.04500023243921702\n",
      "Iteration no. 3 , x value: 0.4181006211462181 , error: -0.00027875144503381854\n",
      "The value fo root is: 0.4181006211462181\n"
     ]
    }
   ],
   "source": [
    "x = 0.6 #Initial value\n",
    "root = newton_raphson(x)\n",
    "print(\"The value fo root is:\",root)"
   ]
  },
  {
   "cell_type": "code",
   "execution_count": null,
   "metadata": {},
   "outputs": [],
   "source": []
  }
 ],
 "metadata": {
  "kernelspec": {
   "display_name": "Python 3",
   "language": "python",
   "name": "python3"
  },
  "language_info": {
   "codemirror_mode": {
    "name": "ipython",
    "version": 3
   },
   "file_extension": ".py",
   "mimetype": "text/x-python",
   "name": "python",
   "nbconvert_exporter": "python",
   "pygments_lexer": "ipython3",
   "version": "3.7.1"
  }
 },
 "nbformat": 4,
 "nbformat_minor": 2
}
